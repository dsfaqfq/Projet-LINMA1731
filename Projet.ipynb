{
 "cells": [
  {
   "cell_type": "code",
   "execution_count": 1,
   "id": "a05d3cd2",
   "metadata": {},
   "outputs": [],
   "source": [
    "import numpy as np\n",
    "import matplotlib.pyplot as plt\n",
    "from scipy.integrate import odeint\n",
    "from mpl_toolkits.mplot3d import Axes3D\n",
    "from numpy import pi\n",
    "import random"
   ]
  },
  {
   "cell_type": "code",
   "execution_count": 2,
   "id": "a56e4897",
   "metadata": {},
   "outputs": [
    {
     "name": "stdout",
     "output_type": "stream",
     "text": [
      "Requirement already satisfied: plotly in c:\\users\\quent\\anaconda3\\lib\\site-packages (5.6.0)\n",
      "Requirement already satisfied: six in c:\\users\\quent\\anaconda3\\lib\\site-packages (from plotly) (1.16.0)\n",
      "Requirement already satisfied: tenacity>=6.2.0 in c:\\users\\quent\\anaconda3\\lib\\site-packages (from plotly) (8.0.1)\n"
     ]
    }
   ],
   "source": [
    "# Install a pip package in the current Jupyter kernel\n",
    "import sys\n",
    "!{sys.executable} -m pip install plotly"
   ]
  },
  {
   "cell_type": "code",
   "execution_count": 13,
   "id": "1a3e5ddc",
   "metadata": {},
   "outputs": [],
   "source": [
    "parameters = [10.0, 28.0, 8.0/3.0]#sigma, rho, beta"
   ]
  },
  {
   "cell_type": "code",
   "execution_count": 14,
   "id": "7c5cd586",
   "metadata": {},
   "outputs": [],
   "source": [
    "parameters1 = [5.0, 18.0, 8.0]"
   ]
  },
  {
   "cell_type": "code",
   "execution_count": 15,
   "id": "35e563f9",
   "metadata": {},
   "outputs": [],
   "source": [
    "# Lorenz model\n",
    "\n",
    "def Lorenz(state,t):\n",
    "    x, y, z = state  # Unpack the state vector\n",
    "    return parameters[0] * (y - x), x * (parameters[1] - z) - y, x * y - parameters[2] * z  # Derivatives\n",
    "\n",
    "state0 = [1.0, 1.0, 1.0] # initial condition\n",
    "t = np.arange(0.0, 100.0, 0.02) # time vector\n",
    "\n",
    "states = odeint(Lorenz, state0, t) # vector containing the (x,y,z) positions for each time step"
   ]
  },
  {
   "cell_type": "code",
   "execution_count": 16,
   "id": "0ae4b947",
   "metadata": {},
   "outputs": [],
   "source": [
    "# Lorenz model\n",
    "\n",
    "def Lorenz1(state,t):\n",
    "    x, y, z = state  # Unpack the state vector\n",
    "    return parameters1[0] * (y - x), x * (parameters1[1] - z) - y, x * y - parameters1[2] * z  # Derivatives\n",
    "\n",
    "states1 = odeint(Lorenz1, state0, t) # vector containing the (x,y,z) positions for each time step"
   ]
  },
  {
   "cell_type": "code",
   "execution_count": 17,
   "id": "89ec1f7a",
   "metadata": {},
   "outputs": [],
   "source": [
    "squares = np.int_(np.floor(states / 5))\n",
    "\n",
    "matrix = np.zeros((8, 12, 10))\n",
    "for elem in squares:\n",
    "    square = tuple(elem)\n",
    "    x, y, z = square\n",
    "    matrix[x + 4][y + 6][z] += 1"
   ]
  },
  {
   "cell_type": "code",
   "execution_count": 18,
   "id": "3788588a",
   "metadata": {},
   "outputs": [],
   "source": [
    "squares1 = np.int_(np.floor(states1 / 5))\n",
    "\n",
    "matrix1 = np.zeros((8, 12, 10))\n",
    "for elem in squares1:\n",
    "    square1 = tuple(elem)\n",
    "    x, y, z = square1\n",
    "    matrix1[x + 4][y + 6][z] += 1"
   ]
  },
  {
   "cell_type": "code",
   "execution_count": null,
   "id": "4b99d24a",
   "metadata": {},
   "outputs": [],
   "source": [
    "xy = np.sum(matrix, axis=2)\n",
    "yz = np.sum(matrix, axis=0)\n",
    "xz = np.sum(matrix, axis=1)\n",
    "\n",
    "x, y, z = np.linspace(-20, 20, 9), np.linspace(-30, 30, 13), np.linspace(0, 50, 11)\n",
    "\n",
    "plt.pcolormesh(x, y, xy.T)\n",
    "plt.xlabel(\"x\")\n",
    "plt.ylabel(\"y\")\n",
    "plt.colorbar()\n",
    "plt.show()\n",
    "\n",
    "plt.pcolormesh(x, z, xz.T)\n",
    "plt.xlabel(\"x\")\n",
    "plt.ylabel(\"z\")\n",
    "plt.colorbar()\n",
    "plt.show()\n",
    "\n",
    "plt.pcolormesh(y, z, yz.T)\n",
    "plt.xlabel(\"y\")\n",
    "plt.ylabel(\"z\")\n",
    "plt.colorbar()\n",
    "plt.show()\n",
    "\n",
    "fig = plt.figure()\n",
    "ax = fig.gca(projection=\"3d\")\n",
    "ax.plot(states[:, 0], states[:, 1], states[:, 2])\n",
    "plt.xlabel('x')\n",
    "plt.ylabel('y')\n",
    "plt.legend(['True system'])\n",
    "plt.draw()\n",
    "plt.show()"
   ]
  },
  {
   "cell_type": "code",
   "execution_count": 5,
   "id": "3a401fdb",
   "metadata": {},
   "outputs": [
    {
     "name": "stderr",
     "output_type": "stream",
     "text": [
      "C:\\Users\\quent\\AppData\\Local\\Temp/ipykernel_17196/2857161259.py:2: MatplotlibDeprecationWarning: Calling gca() with keyword arguments was deprecated in Matplotlib 3.4. Starting two minor releases later, gca() will take no keyword arguments. The gca() function should only be used to get the current axes, or if no axes exist, create new axes with default keyword arguments. To create a new axes with non-default arguments, use plt.axes() or plt.subplot().\n",
      "  ax = fig.gca(projection=\"3d\")\n"
     ]
    },
    {
     "data": {
      "image/png": "[encoded data removed]",
      "text/plain": [
       "<Figure size 432x288 with 1 Axes>"
      ]
     },
     "metadata": {
      "needs_background": "light"
     },
     "output_type": "display_data"
    }
   ],
   "source": [
    "fig = plt.figure()\n",
    "ax = fig.gca(projection=\"3d\")\n",
    "ax.plot(states[:, 0], states[:, 1], states[:, 2])\n",
    "plt.xlabel('x')\n",
    "plt.ylabel('y')\n",
    "plt.legend(['True system'])\n",
    "plt.draw()\n",
    "plt.show()"
   ]
  },
  {
   "cell_type": "code",
   "execution_count": 8,
   "id": "a511cde6",
   "metadata": {},
   "outputs": [],
   "source": [
    "import plotly.graph_objects as go\n",
    "import plotly.io as pio\n",
    "pio.renderers.default = \"browser\"\n",
    "\n",
    "\n",
    "fig = go.Figure(data=[go.Scatter3d(x=states[:, 0],y=states[:, 1],z=states[:, 2],\n",
    "                                   mode='markers',\n",
    "                                   marker=dict(\n",
    "                                       size=2,\n",
    "                                       opacity=0.8\n",
    "    )                        \n",
    "                                   )])\n",
    "fig.update_layout(\n",
    "    title='True system')\n",
    "fig.update_scenes(aspectmode='data')\n",
    "fig.show()"
   ]
  },
  {
   "cell_type": "code",
   "execution_count": 10,
   "id": "0427b4b3",
   "metadata": {},
   "outputs": [
    {
     "name": "stdout",
     "output_type": "stream",
     "text": [
      "0.0\n"
     ]
    }
   ],
   "source": [
    "print(matrix[1][1][1])"
   ]
  },
  {
   "cell_type": "code",
   "execution_count": 28,
   "id": "d2f384ac",
   "metadata": {},
   "outputs": [],
   "source": [
    "def L1(X, Y):\n",
    "    distance = abs(X-Y)\n",
    "    return np.sum(distance)"
   ]
  },
  {
   "cell_type": "code",
   "execution_count": 30,
   "id": "12efed07",
   "metadata": {},
   "outputs": [],
   "source": [
    "def Linf(X, Y):\n",
    "    distance = abs(X - Y)\n",
    "    return np.max(distance)"
   ]
  },
  {
   "cell_type": "code",
   "execution_count": 29,
   "id": "0f2cb6d7",
   "metadata": {},
   "outputs": [
    {
     "name": "stdout",
     "output_type": "stream",
     "text": [
      "9950.0\n"
     ]
    }
   ],
   "source": [
    "print(L1(matrix, matrix1))"
   ]
  },
  {
   "cell_type": "code",
   "execution_count": 31,
   "id": "54c49643",
   "metadata": {},
   "outputs": [
    {
     "name": "stdout",
     "output_type": "stream",
     "text": [
      "4951.0\n"
     ]
    }
   ],
   "source": [
    "print(Linf(matrix, matrix1))"
   ]
  },
  {
   "cell_type": "code",
   "execution_count": null,
   "id": "8c86ebbb",
   "metadata": {},
   "outputs": [],
   "source": []
  }
 ],
 "metadata": {
  "kernelspec": {
   "display_name": "Python 3 (ipykernel)",
   "language": "python",
   "name": "python3"
  },
  "language_info": {
   "codemirror_mode": {
    "name": "ipython",
    "version": 3
   },
   "file_extension": ".py",
   "mimetype": "text/x-python",
   "name": "python",
   "nbconvert_exporter": "python",
   "pygments_lexer": "ipython3",
   "version": "3.9.7"
  }
 },
 "nbformat": 4,
 "nbformat_minor": 5
}
